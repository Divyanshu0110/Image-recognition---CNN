{
 "cells": [
  {
   "cell_type": "code",
   "execution_count": 1,
   "id": "e166f420",
   "metadata": {},
   "outputs": [
    {
     "name": "stdout",
     "output_type": "stream",
     "text": [
      "WARNING:tensorflow:From C:\\Users\\bhati\\anaconda3\\Lib\\site-packages\\keras\\src\\losses.py:2976: The name tf.losses.sparse_softmax_cross_entropy is deprecated. Please use tf.compat.v1.losses.sparse_softmax_cross_entropy instead.\n",
      "\n"
     ]
    }
   ],
   "source": [
    "import tensorflow as tf\n",
    "from tensorflow.compat.v1.losses import sparse_softmax_cross_entropy"
   ]
  },
  {
   "cell_type": "code",
   "execution_count": 2,
   "id": "3baf7259",
   "metadata": {},
   "outputs": [],
   "source": [
    "from keras.preprocessing.image import ImageDataGenerator"
   ]
  },
  {
   "cell_type": "code",
   "execution_count": 3,
   "id": "a87233fb",
   "metadata": {},
   "outputs": [
    {
     "data": {
      "text/plain": [
       "'2.15.0'"
      ]
     },
     "execution_count": 3,
     "metadata": {},
     "output_type": "execute_result"
    }
   ],
   "source": [
    "tf.__version__"
   ]
  },
  {
   "cell_type": "code",
   "execution_count": 4,
   "id": "953aaec4",
   "metadata": {},
   "outputs": [
    {
     "name": "stdout",
     "output_type": "stream",
     "text": [
      "WARNING:tensorflow:From C:\\Users\\bhati\\anaconda3\\Lib\\site-packages\\keras\\src\\backend.py:1398: The name tf.executing_eagerly_outside_functions is deprecated. Please use tf.compat.v1.executing_eagerly_outside_functions instead.\n",
      "\n",
      "WARNING:tensorflow:From C:\\Users\\bhati\\anaconda3\\Lib\\site-packages\\keras\\src\\layers\\pooling\\max_pooling2d.py:161: The name tf.nn.max_pool is deprecated. Please use tf.nn.max_pool2d instead.\n",
      "\n",
      "WARNING:tensorflow:From C:\\Users\\bhati\\anaconda3\\Lib\\site-packages\\keras\\src\\optimizers\\__init__.py:309: The name tf.train.Optimizer is deprecated. Please use tf.compat.v1.train.Optimizer instead.\n",
      "\n"
     ]
    }
   ],
   "source": [
    "import pickle\n",
    "with open(\"model-CNN-dogs&cats.pkl\", \"rb\") as f:\n",
    "    cnn = pickle.load(f)"
   ]
  },
  {
   "cell_type": "code",
   "execution_count": 5,
   "id": "1b818710",
   "metadata": {},
   "outputs": [
    {
     "name": "stderr",
     "output_type": "stream",
     "text": [
      "C:\\Users\\bhati\\anaconda3\\Lib\\site-packages\\keras\\src\\engine\\training.py:3103: UserWarning: You are saving your model as an HDF5 file via `model.save()`. This file format is considered legacy. We recommend using instead the native Keras format, e.g. `model.save('my_model.keras')`.\n",
      "  saving_api.save_model(\n"
     ]
    }
   ],
   "source": [
    "cnn.save(\"model-CNN-dogs&cats.h5\")"
   ]
  },
  {
   "cell_type": "code",
   "execution_count": 6,
   "id": "6dc07d78",
   "metadata": {},
   "outputs": [],
   "source": [
    "import skimage"
   ]
  },
  {
   "cell_type": "code",
   "execution_count": 7,
   "id": "4ba76b2c",
   "metadata": {},
   "outputs": [],
   "source": [
    "link = \"https://th.bing.com/th/id/R.0c18a276cdfcaf7eefc5f68151a5bd7b?rik=iivb9COLsCc4UA&riu=http%3a%2f%2fkool98.fm%2fwp-content%2fuploads%2fsites%2f10%2f2020%2f03%2fdog-looks-like-cat.jpg&ehk=qg2%2fPfsswOX8GJC1AhADODV09PdA0VgStx2lGaleKm0%3d&risl=&pid=ImgRaw&r=0\"\n",
    "image_is_really = \"dog\" # update after loading from link\n",
    "load_img = skimage.io.imread(link)"
   ]
  },
  {
   "cell_type": "code",
   "execution_count": 8,
   "id": "e2e3af2c",
   "metadata": {},
   "outputs": [],
   "source": [
    "import numpy as np\n",
    "from keras.preprocessing import image\n",
    "# load_img = image.load_img('test_dog.jpeg', target_size=(64, 64))\n",
    "# # convert image to array\n",
    "# # load_img = image.img_to_array(test_img)\n",
    "# # load_img = np.expand(test_img, axis = 0)"
   ]
  },
  {
   "cell_type": "code",
   "execution_count": 9,
   "id": "967ce905",
   "metadata": {},
   "outputs": [],
   "source": [
    "img_resize = skimage.transform.resize(load_img, (64, 64), anti_aliasing=False)\n",
    "test_img = tf.expand_dims(img_resize, 0)"
   ]
  },
  {
   "cell_type": "code",
   "execution_count": 10,
   "id": "d7f1ab62",
   "metadata": {},
   "outputs": [
    {
     "name": "stdout",
     "output_type": "stream",
     "text": [
      "1/1 [==============================] - 0s 263ms/step\n"
     ]
    },
    {
     "data": {
      "text/plain": [
       "array([[0.6012733]], dtype=float32)"
      ]
     },
     "execution_count": 10,
     "metadata": {},
     "output_type": "execute_result"
    }
   ],
   "source": [
    "# Prediction\n",
    "result = cnn.predict(test_img)\n",
    "result"
   ]
  },
  {
   "cell_type": "code",
   "execution_count": 11,
   "id": "798a314c",
   "metadata": {},
   "outputs": [
    {
     "name": "stdout",
     "output_type": "stream",
     "text": [
      "Correctly identified as dog.\n"
     ]
    }
   ],
   "source": [
    "if result[0][0] > 0.5:\n",
    "    prediction = 'dog'\n",
    "else:\n",
    "    prediction = 'cat'\n",
    "    \n",
    "if prediction == image_is_really:\n",
    "    print(f\"Correctly identified as {prediction}.\")\n",
    "else:\n",
    "    print(f\"Incorrectly identified as {prediction}, it is a {image_is_really}.\")"
   ]
  },
  {
   "cell_type": "code",
   "execution_count": null,
   "id": "f3bd320e",
   "metadata": {},
   "outputs": [],
   "source": []
  }
 ],
 "metadata": {
  "kernelspec": {
   "display_name": "Python 3 (ipykernel)",
   "language": "python",
   "name": "python3"
  },
  "language_info": {
   "codemirror_mode": {
    "name": "ipython",
    "version": 3
   },
   "file_extension": ".py",
   "mimetype": "text/x-python",
   "name": "python",
   "nbconvert_exporter": "python",
   "pygments_lexer": "ipython3",
   "version": "3.11.5"
  }
 },
 "nbformat": 4,
 "nbformat_minor": 5
}
