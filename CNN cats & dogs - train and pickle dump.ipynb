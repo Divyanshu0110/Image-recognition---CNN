{
 "cells": [
  {
   "cell_type": "code",
   "execution_count": 23,
   "id": "e166f420",
   "metadata": {},
   "outputs": [],
   "source": [
    "import tensorflow as tf\n",
    "from tensorflow.compat.v1.losses import sparse_softmax_cross_entropy"
   ]
  },
  {
   "cell_type": "code",
   "execution_count": 24,
   "id": "3baf7259",
   "metadata": {},
   "outputs": [],
   "source": [
    "from keras.preprocessing.image import ImageDataGenerator"
   ]
  },
  {
   "cell_type": "code",
   "execution_count": 25,
   "id": "a87233fb",
   "metadata": {},
   "outputs": [
    {
     "data": {
      "text/plain": [
       "'2.15.0'"
      ]
     },
     "execution_count": 25,
     "metadata": {},
     "output_type": "execute_result"
    }
   ],
   "source": [
    "tf.__version__"
   ]
  },
  {
   "cell_type": "code",
   "execution_count": 26,
   "id": "5c6e07fe",
   "metadata": {},
   "outputs": [],
   "source": [
    "train_datagen = ImageDataGenerator(\n",
    "    rescale = 1./255,\n",
    "    shear_range = 0.2,\n",
    "    zoom_range = 0.2,\n",
    "    horizontal_flip = True\n",
    ")"
   ]
  },
  {
   "cell_type": "code",
   "execution_count": 27,
   "id": "e62d6381",
   "metadata": {},
   "outputs": [
    {
     "name": "stdout",
     "output_type": "stream",
     "text": [
      "Found 8000 images belonging to 2 classes.\n"
     ]
    }
   ],
   "source": [
    "training_set = train_datagen.flow_from_directory(\n",
    "    'data/training_set',\n",
    "    target_size = (64, 64),\n",
    "    batch_size = 32,\n",
    "    class_mode = 'binary'\n",
    ")"
   ]
  },
  {
   "cell_type": "code",
   "execution_count": 28,
   "id": "9e07252d",
   "metadata": {},
   "outputs": [],
   "source": [
    "test_datagen = ImageDataGenerator(rescale = 1./255)"
   ]
  },
  {
   "cell_type": "code",
   "execution_count": 29,
   "id": "3d89ec7b",
   "metadata": {},
   "outputs": [
    {
     "name": "stdout",
     "output_type": "stream",
     "text": [
      "Found 2000 images belonging to 2 classes.\n"
     ]
    }
   ],
   "source": [
    "test_set = test_datagen.flow_from_directory(\n",
    "    'data/test_set',\n",
    "    target_size = (64, 64),\n",
    "    batch_size = 32,\n",
    "    class_mode = 'binary'\n",
    ")"
   ]
  },
  {
   "cell_type": "code",
   "execution_count": 30,
   "id": "c6037010",
   "metadata": {},
   "outputs": [],
   "source": [
    "# Building the Layers"
   ]
  },
  {
   "cell_type": "code",
   "execution_count": 31,
   "id": "d0e76676",
   "metadata": {},
   "outputs": [],
   "source": [
    "cnn = tf.keras.models.Sequential()"
   ]
  },
  {
   "cell_type": "code",
   "execution_count": 32,
   "id": "2a195ed9",
   "metadata": {},
   "outputs": [],
   "source": [
    "cnn.add(tf.keras.layers.Conv2D(filters = 32, kernel_size=3, activation='relu', input_shape=(64,64,3)))\n",
    "# shape 64x64 and 3=color (1=b&w)"
   ]
  },
  {
   "cell_type": "code",
   "execution_count": 33,
   "id": "a330b151",
   "metadata": {},
   "outputs": [],
   "source": [
    "cnn.add(tf.keras.layers.MaxPool2D(pool_size=2, strides=2))"
   ]
  },
  {
   "cell_type": "code",
   "execution_count": 34,
   "id": "441336c0",
   "metadata": {},
   "outputs": [],
   "source": [
    "cnn.add(tf.keras.layers.Conv2D(filters = 32, kernel_size=3, activation='relu'))\n",
    "cnn.add(tf.keras.layers.MaxPool2D(pool_size=2, strides=2))"
   ]
  },
  {
   "cell_type": "code",
   "execution_count": 35,
   "id": "bd611268",
   "metadata": {},
   "outputs": [],
   "source": [
    "cnn.add(tf.keras.layers.Flatten())"
   ]
  },
  {
   "cell_type": "code",
   "execution_count": 36,
   "id": "3734f26e",
   "metadata": {},
   "outputs": [],
   "source": [
    "cnn.add(tf.keras.layers.Dense(units=128, activation='relu'))"
   ]
  },
  {
   "cell_type": "code",
   "execution_count": 37,
   "id": "e5883204",
   "metadata": {},
   "outputs": [],
   "source": [
    "cnn.add(tf.keras.layers.Dense(units=1, activation='sigmoid'))"
   ]
  },
  {
   "cell_type": "code",
   "execution_count": 38,
   "id": "509bb820",
   "metadata": {},
   "outputs": [],
   "source": [
    "# Compiling the loss function"
   ]
  },
  {
   "cell_type": "code",
   "execution_count": 39,
   "id": "e64d522e",
   "metadata": {},
   "outputs": [],
   "source": [
    "cnn.compile(optimizer = 'adam', loss = 'binary_crossentropy', metrics = ['accuracy'])"
   ]
  },
  {
   "cell_type": "code",
   "execution_count": 40,
   "id": "b85c5d13",
   "metadata": {},
   "outputs": [],
   "source": [
    "# Training"
   ]
  },
  {
   "cell_type": "code",
   "execution_count": 41,
   "id": "a0bbdb92",
   "metadata": {},
   "outputs": [
    {
     "name": "stdout",
     "output_type": "stream",
     "text": [
      "Epoch 1/23\n",
      "250/250 [==============================] - 29s 114ms/step - loss: 0.6558 - accuracy: 0.6060 - val_loss: 0.6108 - val_accuracy: 0.6755\n",
      "Epoch 2/23\n",
      "250/250 [==============================] - 29s 114ms/step - loss: 0.5880 - accuracy: 0.6860 - val_loss: 0.5456 - val_accuracy: 0.7295\n",
      "Epoch 3/23\n",
      "250/250 [==============================] - 29s 118ms/step - loss: 0.5442 - accuracy: 0.7253 - val_loss: 0.5288 - val_accuracy: 0.7355\n",
      "Epoch 4/23\n",
      "250/250 [==============================] - 30s 121ms/step - loss: 0.5123 - accuracy: 0.7436 - val_loss: 0.4870 - val_accuracy: 0.7730\n",
      "Epoch 5/23\n",
      "250/250 [==============================] - 30s 119ms/step - loss: 0.4924 - accuracy: 0.7580 - val_loss: 0.5332 - val_accuracy: 0.7460\n",
      "Epoch 6/23\n",
      "250/250 [==============================] - 29s 116ms/step - loss: 0.4725 - accuracy: 0.7754 - val_loss: 0.5100 - val_accuracy: 0.7520\n",
      "Epoch 7/23\n",
      "250/250 [==============================] - 29s 115ms/step - loss: 0.4630 - accuracy: 0.7739 - val_loss: 0.4750 - val_accuracy: 0.7805\n",
      "Epoch 8/23\n",
      "250/250 [==============================] - 29s 114ms/step - loss: 0.4530 - accuracy: 0.7843 - val_loss: 0.4912 - val_accuracy: 0.7780\n",
      "Epoch 9/23\n",
      "250/250 [==============================] - 29s 114ms/step - loss: 0.4390 - accuracy: 0.7914 - val_loss: 0.4539 - val_accuracy: 0.7880\n",
      "Epoch 10/23\n",
      "250/250 [==============================] - 29s 117ms/step - loss: 0.4219 - accuracy: 0.8039 - val_loss: 0.4650 - val_accuracy: 0.7830\n",
      "Epoch 11/23\n",
      "250/250 [==============================] - 29s 115ms/step - loss: 0.4161 - accuracy: 0.8076 - val_loss: 0.4685 - val_accuracy: 0.7830\n",
      "Epoch 12/23\n",
      "250/250 [==============================] - 29s 115ms/step - loss: 0.3950 - accuracy: 0.8209 - val_loss: 0.4516 - val_accuracy: 0.7940\n",
      "Epoch 13/23\n",
      "250/250 [==============================] - 29s 116ms/step - loss: 0.3846 - accuracy: 0.8255 - val_loss: 0.4458 - val_accuracy: 0.8115\n",
      "Epoch 14/23\n",
      "250/250 [==============================] - 29s 114ms/step - loss: 0.3757 - accuracy: 0.8301 - val_loss: 0.4595 - val_accuracy: 0.7875\n",
      "Epoch 15/23\n",
      "250/250 [==============================] - 30s 119ms/step - loss: 0.3707 - accuracy: 0.8320 - val_loss: 0.4756 - val_accuracy: 0.7960\n",
      "Epoch 16/23\n",
      "250/250 [==============================] - 29s 116ms/step - loss: 0.3498 - accuracy: 0.8416 - val_loss: 0.4524 - val_accuracy: 0.8000\n",
      "Epoch 17/23\n",
      "250/250 [==============================] - 30s 118ms/step - loss: 0.3475 - accuracy: 0.8418 - val_loss: 0.4523 - val_accuracy: 0.8015\n",
      "Epoch 18/23\n",
      "250/250 [==============================] - 29s 118ms/step - loss: 0.3235 - accuracy: 0.8601 - val_loss: 0.4722 - val_accuracy: 0.7970\n",
      "Epoch 19/23\n",
      "250/250 [==============================] - 29s 116ms/step - loss: 0.3073 - accuracy: 0.8699 - val_loss: 0.5328 - val_accuracy: 0.7930\n",
      "Epoch 20/23\n",
      "250/250 [==============================] - 30s 118ms/step - loss: 0.3012 - accuracy: 0.8687 - val_loss: 0.5449 - val_accuracy: 0.7805\n",
      "Epoch 21/23\n",
      "250/250 [==============================] - 29s 117ms/step - loss: 0.2991 - accuracy: 0.8724 - val_loss: 0.4601 - val_accuracy: 0.8160\n",
      "Epoch 22/23\n",
      "250/250 [==============================] - 29s 117ms/step - loss: 0.2737 - accuracy: 0.8825 - val_loss: 0.5060 - val_accuracy: 0.7920\n",
      "Epoch 23/23\n",
      "250/250 [==============================] - 29s 117ms/step - loss: 0.2669 - accuracy: 0.8900 - val_loss: 0.4999 - val_accuracy: 0.8060\n"
     ]
    },
    {
     "data": {
      "text/plain": [
       "<keras.src.callbacks.History at 0x26f8434ae50>"
      ]
     },
     "execution_count": 41,
     "metadata": {},
     "output_type": "execute_result"
    }
   ],
   "source": [
    "cnn.fit(x = training_set, validation_data = test_set, epochs = 23)"
   ]
  },
  {
   "cell_type": "code",
   "execution_count": 42,
   "id": "77a09844",
   "metadata": {},
   "outputs": [],
   "source": [
    "# Highest accuracy at epoch = 25, training acc=0.9668 & test acc=0.8415"
   ]
  },
  {
   "cell_type": "code",
   "execution_count": 43,
   "id": "d10efc84",
   "metadata": {},
   "outputs": [],
   "source": [
    "import pickle"
   ]
  },
  {
   "cell_type": "code",
   "execution_count": 44,
   "id": "67f43ecf",
   "metadata": {},
   "outputs": [],
   "source": [
    "with open(\"model-CNN-dogs&cats.pkl\", \"wb\") as file:\n",
    "    pickle.dump(cnn, file)"
   ]
  },
  {
   "cell_type": "code",
   "execution_count": null,
   "id": "b542f9eb",
   "metadata": {},
   "outputs": [],
   "source": []
  }
 ],
 "metadata": {
  "kernelspec": {
   "display_name": "Python 3 (ipykernel)",
   "language": "python",
   "name": "python3"
  },
  "language_info": {
   "codemirror_mode": {
    "name": "ipython",
    "version": 3
   },
   "file_extension": ".py",
   "mimetype": "text/x-python",
   "name": "python",
   "nbconvert_exporter": "python",
   "pygments_lexer": "ipython3",
   "version": "3.11.5"
  }
 },
 "nbformat": 4,
 "nbformat_minor": 5
}
